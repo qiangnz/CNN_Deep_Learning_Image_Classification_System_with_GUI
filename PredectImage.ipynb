{
 "cells": [
  {
   "cell_type": "code",
   "execution_count": 10,
   "metadata": {},
   "outputs": [
    {
     "name": "stdout",
     "output_type": "stream",
     "text": [
      "Bat\n"
     ]
    }
   ],
   "source": [
    "import cv2\n",
    "import tensorflow as tf\n",
    "file_path='Pekapeka (15).jpg'\n",
    "\n",
    "CATEGORIES=['Hei Fish Hook', \n",
    "    'Warrior Culture', \n",
    "    'First Man', \n",
    "    'Dolphin', \n",
    "    'Sea Turtle',\n",
    "    'Spiral', \n",
    "    'Spiritual Guardian', \n",
    "    'Hammerhead Shark', \n",
    "    'Fish Hook', \n",
    "    'Weapon',\n",
    "    'Tear Drop',\n",
    "    'Bat',\n",
    "    'Single Twist',\n",
    "    'Double Twist',\n",
    "    'Triple Twist',\n",
    "    'Circle',\n",
    "    'Adze',\n",
    "    'Whale Tale']\n",
    "\n",
    "def prepare(filepath):\n",
    "    IMG_SIZE=128\n",
    "    img_array = cv2.imread(filepath, cv2.IMREAD_GRAYSCALE)\n",
    "    new_array = cv2.resize(img_array, (IMG_SIZE, IMG_SIZE))\n",
    "    return new_array.reshape(-1, IMG_SIZE, IMG_SIZE, 1)\n",
    "\n",
    "model = tf.keras.models.load_model(\"CNNModel6319.h5\")\n",
    "prediction=model.predict([prepare(file_path)])\n",
    "predictedString = str(prediction).replace(\" \",\"\")\n",
    "predictedString = predictedString.replace(\"[[\",\"\")\n",
    "predictedString = predictedString.replace(\"]]\",\"\")\n",
    "predictedString = predictedString.replace(\".\",\"\")\n",
    "classNumber = predictedString.index(\"1\")\n",
    "print(CATEGORIES[classNumber])\n",
    "\n",
    "\n"
   ]
  },
  {
   "cell_type": "code",
   "execution_count": 14,
   "metadata": {},
   "outputs": [
    {
     "name": "stdout",
     "output_type": "stream",
     "text": [
      "Hei Fish Hook: 0.00%\n",
      "Warrior Culture: 0.00%\n",
      "First Man: 0.00%\n",
      "Dolphin: 0.00%\n",
      "Sea Turtle: 0.00%\n",
      "Spiral: 0.00%\n",
      "Spiritual Guardian: 0.00%\n",
      "Hammerhead Shark: 0.00%\n",
      "Fish Hook: 0.00%\n",
      "Weapon: 0.00%\n",
      "Tear Drop: 0.00%\n",
      "Bat: 100.00%\n",
      "Single Twist: 0.00%\n",
      "Double Twist: 0.00%\n",
      "Triple Twist: 0.00%\n",
      "Circle: 0.00%\n",
      "Adze: 0.00%\n",
      "Whale Tale: 0.00%\n"
     ]
    }
   ],
   "source": [
    "for index, probability in enumerate(prediction[0]):\n",
    "    print(f'{CATEGORIES[index]}: {probability:.2%}')"
   ]
  }
 ],
 "metadata": {
  "interpreter": {
   "hash": "384cbfcbc72e03df981fd23b21cf467fd46df4d0b9d10f2ccf554c892c9ebd69"
  },
  "kernelspec": {
   "display_name": "Python 3.9.7 64-bit",
   "name": "python3"
  },
  "language_info": {
   "codemirror_mode": {
    "name": "ipython",
    "version": 3
   },
   "file_extension": ".py",
   "mimetype": "text/x-python",
   "name": "python",
   "nbconvert_exporter": "python",
   "pygments_lexer": "ipython3",
   "version": "3.9.7"
  },
  "orig_nbformat": 4
 },
 "nbformat": 4,
 "nbformat_minor": 2
}
